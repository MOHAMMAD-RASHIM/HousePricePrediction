{
 "cells": [
  {
   "cell_type": "code",
   "execution_count": null,
   "id": "f769d08b",
   "metadata": {},
   "outputs": [],
   "source": [
    "import numpy as np \n",
    "import pandas as pd \n",
    "import matplotlib.pyplot as plt \n",
    "import seaborn as sns\n"
   ]
  },
  {
   "cell_type": "markdown",
   "id": "cf10794d",
   "metadata": {},
   "source": [
    "### Load The Dataset California Housing"
   ]
  },
  {
   "cell_type": "code",
   "execution_count": null,
   "id": "f09f2100",
   "metadata": {},
   "outputs": [],
   "source": [
    "from sklearn.datasets import fetch_california_housing\n",
    "housing = fetch_california_housing()\n",
    "\n",
    "type(housing)\n"
   ]
  },
  {
   "cell_type": "code",
   "execution_count": null,
   "id": "9e67cd18",
   "metadata": {},
   "outputs": [],
   "source": [
    "housing"
   ]
  },
  {
   "cell_type": "code",
   "execution_count": null,
   "id": "8cc55939",
   "metadata": {},
   "outputs": [],
   "source": [
    "print(housing.DESCR)"
   ]
  },
  {
   "cell_type": "code",
   "execution_count": null,
   "id": "d169ce97",
   "metadata": {},
   "outputs": [],
   "source": [
    "print(housing.feature_name)"
   ]
  },
  {
   "cell_type": "code",
   "execution_count": null,
   "id": "6af59338",
   "metadata": {},
   "outputs": [],
   "source": [
    "print(housing.target)"
   ]
  },
  {
   "cell_type": "code",
   "execution_count": null,
   "id": "fa5a3ac5",
   "metadata": {},
   "outputs": [],
   "source": [
    "print(housing.data)\n"
   ]
  },
  {
   "cell_type": "markdown",
   "id": "4212b4ee",
   "metadata": {},
   "source": [
    "### prepare the data"
   ]
  },
  {
   "cell_type": "code",
   "execution_count": null,
   "id": "2ac834f5",
   "metadata": {},
   "outputs": [],
   "source": [
    "dataset = pd.DataFrame(housing.data, columns=housing.feature_names)"
   ]
  },
  {
   "cell_type": "code",
   "execution_count": null,
   "id": "3719e76b",
   "metadata": {},
   "outputs": [],
   "source": [
    "type(dataset)"
   ]
  },
  {
   "cell_type": "code",
   "execution_count": null,
   "id": "acf5454b",
   "metadata": {},
   "outputs": [],
   "source": [
    "dataset.head()"
   ]
  },
  {
   "cell_type": "code",
   "execution_count": null,
   "id": "349b1085",
   "metadata": {},
   "outputs": [],
   "source": [
    "dataset.tail()"
   ]
  },
  {
   "cell_type": "code",
   "execution_count": null,
   "id": "3b373f6b",
   "metadata": {},
   "outputs": [],
   "source": [
    "dataset['Price'] = housing.target"
   ]
  },
  {
   "cell_type": "code",
   "execution_count": null,
   "id": "0d00446f",
   "metadata": {},
   "outputs": [],
   "source": [
    "dataset.head()"
   ]
  },
  {
   "cell_type": "code",
   "execution_count": null,
   "id": "1e88c451",
   "metadata": {},
   "outputs": [],
   "source": [
    "dataset.info()"
   ]
  },
  {
   "cell_type": "code",
   "execution_count": null,
   "id": "a245e551",
   "metadata": {},
   "outputs": [],
   "source": [
    "dataset.isnull().sum() # check for null values"
   ]
  },
  {
   "cell_type": "markdown",
   "id": "f36bd31b",
   "metadata": {},
   "source": [
    "### Statistical description of the data\n"
   ]
  },
  {
   "cell_type": "code",
   "execution_count": null,
   "id": "1f37bd4c",
   "metadata": {},
   "outputs": [],
   "source": [
    "dataset.describe()"
   ]
  },
  {
   "cell_type": "markdown",
   "id": "d6e6788c",
   "metadata": {},
   "source": [
    "### EDA - Exploratory Data Analysis\n",
    "\n",
    "--- \n",
    "- understand the data\n",
    "- data preparation\n",
    "- EDA (find the correlation coefficient)"
   ]
  },
  {
   "cell_type": "code",
   "execution_count": null,
   "id": "3928e698",
   "metadata": {},
   "outputs": [],
   "source": [
    "dataset.corr()"
   ]
  },
  {
   "cell_type": "markdown",
   "id": "e3300753",
   "metadata": {},
   "source": [
    "### observation\n",
    "---\n",
    "- AveRooms and AveBedrms = 0.847621 (somewhat +vely correlated)\n",
    "- Latitude and Longitude = -0.924664 (-vely correlated)"
   ]
  },
  {
   "cell_type": "code",
   "execution_count": null,
   "id": "97f8361a",
   "metadata": {},
   "outputs": [],
   "source": [
    "sns.pairplot(dataset)"
   ]
  },
  {
   "cell_type": "markdown",
   "id": "957b0a57",
   "metadata": {},
   "source": [
    "### boxplot - to detect outliers"
   ]
  },
  {
   "cell_type": "code",
   "execution_count": null,
   "id": "26ab1cdf",
   "metadata": {},
   "outputs": [],
   "source": [
    "fig, ax = plt.subplots(figsize =(7,10))\n",
    "sns.boxplot(data = dataset, ax = ax)\n",
    "plt.savefig(\"boxplot.jpg\")"
   ]
  },
  {
   "cell_type": "markdown",
   "id": "b432adb1",
   "metadata": {},
   "source": [
    "### Split the data into dependent and independent features"
   ]
  },
  {
   "cell_type": "code",
   "execution_count": null,
   "id": "05c7ba6f",
   "metadata": {},
   "outputs": [],
   "source": [
    "X = dataset.iloc[:,:-1]\n",
    "y = dataset.iloc[:,-1]"
   ]
  },
  {
   "cell_type": "code",
   "execution_count": null,
   "id": "893f3127",
   "metadata": {},
   "outputs": [],
   "source": [
    "X"
   ]
  },
  {
   "cell_type": "code",
   "execution_count": null,
   "id": "511e4f6e",
   "metadata": {},
   "outputs": [],
   "source": [
    "y"
   ]
  },
  {
   "cell_type": "code",
   "execution_count": null,
   "id": "9bd5c048",
   "metadata": {},
   "outputs": [],
   "source": [
    "# split the data into train and test set\n",
    "from sklearn.model_selection import train_test_split\n",
    "X_train,X_test,y_train,y_test = train_test_split(X,y,test_size=0.3,random_state=42)"
   ]
  },
  {
   "cell_type": "code",
   "execution_count": null,
   "id": "39c14dbe",
   "metadata": {},
   "outputs": [],
   "source": [
    "X_train"
   ]
  },
  {
   "cell_type": "code",
   "execution_count": null,
   "id": "eba85b95",
   "metadata": {},
   "outputs": [],
   "source": [
    "X_test"
   ]
  },
  {
   "cell_type": "code",
   "execution_count": null,
   "id": "003ddc39",
   "metadata": {},
   "outputs": [],
   "source": [
    "y_train"
   ]
  },
  {
   "cell_type": "code",
   "execution_count": null,
   "id": "c72a91bc",
   "metadata": {},
   "outputs": [],
   "source": [
    "y_test"
   ]
  },
  {
   "cell_type": "markdown",
   "id": "28dc78ca",
   "metadata": {},
   "source": [
    "### Normalization of given data points "
   ]
  },
  {
   "cell_type": "code",
   "execution_count": null,
   "id": "a469c25b",
   "metadata": {},
   "outputs": [],
   "source": [
    "from sklearn.preprocessing import StandardScaler\n",
    "scaler = StandardScaler()\n",
    "X_train_norm = scaler.fit_transform(X_train)"
   ]
  },
  {
   "cell_type": "code",
   "execution_count": null,
   "id": "dc93e8a4",
   "metadata": {},
   "outputs": [],
   "source": [
    "X_train_norm"
   ]
  },
  {
   "cell_type": "code",
   "execution_count": null,
   "id": "9ef52fc9",
   "metadata": {},
   "outputs": [],
   "source": [
    "fig, ax = plt.subplots(figsize =(15,15))\n",
    "sns.boxplot(data = X_train_norm, ax = ax)\n",
    "plt.savefig(\"boxplotTrainData.jpg\")"
   ]
  },
  {
   "cell_type": "code",
   "execution_count": null,
   "id": "d51bedfa",
   "metadata": {},
   "outputs": [],
   "source": [
    "X_test_norm = scaler.transform(X_test)"
   ]
  },
  {
   "cell_type": "code",
   "execution_count": null,
   "id": "614d24f1",
   "metadata": {},
   "outputs": [],
   "source": [
    "X_test_norm"
   ]
  },
  {
   "cell_type": "code",
   "execution_count": null,
   "id": "ad93eb12",
   "metadata": {},
   "outputs": [],
   "source": [
    "fig, ax = plt.subplots(figsize =(15,15))\n",
    "sns.boxplot(data = X_test_norm, ax = ax)\n",
    "plt.savefig(\"boxplotTestData.jpg\")"
   ]
  },
  {
   "cell_type": "code",
   "execution_count": null,
   "id": "7ffd56b7",
   "metadata": {},
   "outputs": [],
   "source": [
    "### train set -> fit_transform(X_train)\n",
    "### test set  -> transform(X_test)\n",
    "### why??? \n",
    "\n",
    "# The answer is for training\n",
    "# fit will get the mean and standard deviation of every column\n",
    "# transfrom will use the mean and standard deviation to normalize the\n",
    "#  data by applying z value\n",
    " \n",
    "# Formula used is :\n",
    "# z = (x-mu)/sigma , where mu = population mean, sigma = std. deviation\n",
    "\n",
    "# for testing we have the value of mu and sigma of training , so we perform only the transform\n"
   ]
  },
  {
   "cell_type": "markdown",
   "id": "e9c5a0b8",
   "metadata": {},
   "source": [
    "### Model Training"
   ]
  },
  {
   "cell_type": "code",
   "execution_count": null,
   "id": "e419c286",
   "metadata": {},
   "outputs": [],
   "source": [
    "from sklearn.linear_model import LinearRegression\n",
    "regression = LinearRegression()\n",
    "regression.fit(X_train_norm,y_train)"
   ]
  },
  {
   "cell_type": "code",
   "execution_count": null,
   "id": "eb701245",
   "metadata": {},
   "outputs": [],
   "source": [
    "print(regression.coef_)\n",
    "## y = m1x1+m2x2+...m8x8+c, c=intercept, m1 - m8 = coeffiecients"
   ]
  },
  {
   "cell_type": "code",
   "execution_count": null,
   "id": "88b20e23",
   "metadata": {},
   "outputs": [],
   "source": [
    "print(regression.intercept_)"
   ]
  },
  {
   "cell_type": "markdown",
   "id": "c68a312d",
   "metadata": {},
   "source": [
    "### Model prediction"
   ]
  },
  {
   "cell_type": "code",
   "execution_count": null,
   "id": "c7c84c50",
   "metadata": {},
   "outputs": [],
   "source": [
    "reg_pred = regression.predict(X_test_norm)  #predicted value\n",
    "reg_pred"
   ]
  },
  {
   "cell_type": "code",
   "execution_count": null,
   "id": "8e2d091c",
   "metadata": {},
   "outputs": [],
   "source": [
    "# calculate the error or the residual\n",
    "residuals = y_test - reg_pred"
   ]
  },
  {
   "cell_type": "code",
   "execution_count": null,
   "id": "e99b7afd",
   "metadata": {},
   "outputs": [],
   "source": [
    "residuals"
   ]
  },
  {
   "cell_type": "code",
   "execution_count": null,
   "id": "dece0926",
   "metadata": {},
   "outputs": [],
   "source": [
    "# distribution plot of residuals\n",
    "# it should look like a normal distribution\n",
    "sns.displot(residuals,kind='kde')"
   ]
  },
  {
   "cell_type": "markdown",
   "id": "99edca7d",
   "metadata": {},
   "source": [
    "### Model performance"
   ]
  },
  {
   "cell_type": "code",
   "execution_count": null,
   "id": "c0ec0aa0",
   "metadata": {},
   "outputs": [],
   "source": [
    "from sklearn.metrics import mean_absolute_error,mean_squared_error,r2_score\n",
    "\n",
    "## lower error value we need for MSE and MAE\n",
    "## higher va;ue r2_score and adjusted r2_score\n",
    "\n",
    "print(mean_squared_error(y_test,reg_pred))\n",
    "print(mean_absolute_error(y_test,reg_pred))\n",
    "print(r2_score(y_test,reg_pred))"
   ]
  },
  {
   "cell_type": "markdown",
   "id": "9c6f9da0",
   "metadata": {},
   "source": [
    "#### adjusted r2 "
   ]
  },
  {
   "cell_type": "code",
   "execution_count": null,
   "id": "d6206893",
   "metadata": {},
   "outputs": [],
   "source": [
    "# score = r2_score(y_test,reg_pred)\n",
    "# adjusted_r2 = 1-((1-score)*len(y_test)-1)/(len(y_test)-X_test_norm.shape[1]-1)\n",
    "# print(adjusted_r2)"
   ]
  },
  {
   "cell_type": "markdown",
   "id": "a455e1b8",
   "metadata": {},
   "source": [
    "## save the model"
   ]
  },
  {
   "cell_type": "code",
   "execution_count": null,
   "id": "776dfc2e",
   "metadata": {},
   "outputs": [],
   "source": [
    "# pickle file\n",
    "import pickle\n",
    "pickle.dump(regression, open('Housemodel.pkl','wb'))"
   ]
  },
  {
   "cell_type": "markdown",
   "id": "721b8b2b",
   "metadata": {},
   "source": [
    "## use the saved model to predict the house price"
   ]
  },
  {
   "cell_type": "code",
   "execution_count": null,
   "id": "01aac949",
   "metadata": {},
   "outputs": [],
   "source": [
    "model = pickle.load(open(\"Housemodel.pkl\",'rb'))"
   ]
  },
  {
   "cell_type": "code",
   "execution_count": null,
   "id": "882c94e6",
   "metadata": {},
   "outputs": [],
   "source": [
    "housing.data[0]"
   ]
  },
  {
   "cell_type": "code",
   "execution_count": null,
   "id": "0bb83cc4",
   "metadata": {},
   "outputs": [],
   "source": [
    "scaler.transform(housing.data[0].reshape(1,-1))"
   ]
  },
  {
   "cell_type": "code",
   "execution_count": null,
   "id": "02405961",
   "metadata": {},
   "outputs": [],
   "source": [
    "model.predict(scaler.transform(housing.data[0].reshape(1,-1)))"
   ]
  },
  {
   "cell_type": "code",
   "execution_count": null,
   "id": "930ac750",
   "metadata": {},
   "outputs": [],
   "source": []
  },
  {
   "cell_type": "code",
   "execution_count": null,
   "id": "27b98cea",
   "metadata": {},
   "outputs": [],
   "source": []
  }
 ],
 "metadata": {
  "kernelspec": {
   "display_name": ".venv",
   "language": "python",
   "name": "python3"
  },
  "language_info": {
   "codemirror_mode": {
    "name": "ipython",
    "version": 3
   },
   "file_extension": ".py",
   "mimetype": "text/x-python",
   "name": "python",
   "nbconvert_exporter": "python",
   "pygments_lexer": "ipython3",
   "version": "3.12.3"
  }
 },
 "nbformat": 4,
 "nbformat_minor": 5
}
